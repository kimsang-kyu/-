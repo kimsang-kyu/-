{
  "nbformat": 4,
  "nbformat_minor": 0,
  "metadata": {
    "colab": {
      "name": "df_police_loc.ipynb",
      "provenance": [],
      "collapsed_sections": [],
      "authorship_tag": "ABX9TyMHTZWRAqstSdR000JCkl/B",
      "include_colab_link": true
    },
    "kernelspec": {
      "name": "python3",
      "display_name": "Python 3"
    },
    "language_info": {
      "name": "python"
    }
  },
  "cells": [
    {
      "cell_type": "markdown",
      "metadata": {
        "id": "view-in-github",
        "colab_type": "text"
      },
      "source": [
        "<a href=\"https://colab.research.google.com/github/kimsang-kyu/daejeon_bigdata/blob/main/df_police_loc.ipynb\" target=\"_parent\"><img src=\"https://colab.research.google.com/assets/colab-badge.svg\" alt=\"Open In Colab\"/></a>"
      ]
    },
    {
      "cell_type": "code",
      "metadata": {
        "colab": {
          "base_uri": "https://localhost:8080/"
        },
        "id": "C7ED1dtAw2nK",
        "outputId": "b69bd2f8-43bb-4415-a7e8-05866a00b08b"
      },
      "source": [
        "pip install geopandas"
      ],
      "execution_count": null,
      "outputs": [
        {
          "output_type": "stream",
          "text": [
            "Collecting geopandas\n",
            "\u001b[?25l  Downloading https://files.pythonhosted.org/packages/d7/bf/e9cefb69d39155d122b6ddca53893b61535fa6ffdad70bf5ef708977f53f/geopandas-0.9.0-py2.py3-none-any.whl (994kB)\n",
            "\r\u001b[K     |▎                               | 10kB 18.7MB/s eta 0:00:01\r\u001b[K     |▋                               | 20kB 16.0MB/s eta 0:00:01\r\u001b[K     |█                               | 30kB 13.5MB/s eta 0:00:01\r\u001b[K     |█▎                              | 40kB 12.3MB/s eta 0:00:01\r\u001b[K     |█▋                              | 51kB 7.1MB/s eta 0:00:01\r\u001b[K     |██                              | 61kB 7.5MB/s eta 0:00:01\r\u001b[K     |██▎                             | 71kB 7.9MB/s eta 0:00:01\r\u001b[K     |██▋                             | 81kB 8.7MB/s eta 0:00:01\r\u001b[K     |███                             | 92kB 8.4MB/s eta 0:00:01\r\u001b[K     |███▎                            | 102kB 6.9MB/s eta 0:00:01\r\u001b[K     |███▋                            | 112kB 6.9MB/s eta 0:00:01\r\u001b[K     |████                            | 122kB 6.9MB/s eta 0:00:01\r\u001b[K     |████▎                           | 133kB 6.9MB/s eta 0:00:01\r\u001b[K     |████▋                           | 143kB 6.9MB/s eta 0:00:01\r\u001b[K     |█████                           | 153kB 6.9MB/s eta 0:00:01\r\u001b[K     |█████▎                          | 163kB 6.9MB/s eta 0:00:01\r\u001b[K     |█████▋                          | 174kB 6.9MB/s eta 0:00:01\r\u001b[K     |██████                          | 184kB 6.9MB/s eta 0:00:01\r\u001b[K     |██████▎                         | 194kB 6.9MB/s eta 0:00:01\r\u001b[K     |██████▋                         | 204kB 6.9MB/s eta 0:00:01\r\u001b[K     |███████                         | 215kB 6.9MB/s eta 0:00:01\r\u001b[K     |███████▎                        | 225kB 6.9MB/s eta 0:00:01\r\u001b[K     |███████▋                        | 235kB 6.9MB/s eta 0:00:01\r\u001b[K     |████████                        | 245kB 6.9MB/s eta 0:00:01\r\u001b[K     |████████▎                       | 256kB 6.9MB/s eta 0:00:01\r\u001b[K     |████████▋                       | 266kB 6.9MB/s eta 0:00:01\r\u001b[K     |█████████                       | 276kB 6.9MB/s eta 0:00:01\r\u001b[K     |█████████▎                      | 286kB 6.9MB/s eta 0:00:01\r\u001b[K     |█████████▌                      | 296kB 6.9MB/s eta 0:00:01\r\u001b[K     |█████████▉                      | 307kB 6.9MB/s eta 0:00:01\r\u001b[K     |██████████▏                     | 317kB 6.9MB/s eta 0:00:01\r\u001b[K     |██████████▌                     | 327kB 6.9MB/s eta 0:00:01\r\u001b[K     |██████████▉                     | 337kB 6.9MB/s eta 0:00:01\r\u001b[K     |███████████▏                    | 348kB 6.9MB/s eta 0:00:01\r\u001b[K     |███████████▌                    | 358kB 6.9MB/s eta 0:00:01\r\u001b[K     |███████████▉                    | 368kB 6.9MB/s eta 0:00:01\r\u001b[K     |████████████▏                   | 378kB 6.9MB/s eta 0:00:01\r\u001b[K     |████████████▌                   | 389kB 6.9MB/s eta 0:00:01\r\u001b[K     |████████████▉                   | 399kB 6.9MB/s eta 0:00:01\r\u001b[K     |█████████████▏                  | 409kB 6.9MB/s eta 0:00:01\r\u001b[K     |█████████████▌                  | 419kB 6.9MB/s eta 0:00:01\r\u001b[K     |█████████████▉                  | 430kB 6.9MB/s eta 0:00:01\r\u001b[K     |██████████████▏                 | 440kB 6.9MB/s eta 0:00:01\r\u001b[K     |██████████████▌                 | 450kB 6.9MB/s eta 0:00:01\r\u001b[K     |██████████████▉                 | 460kB 6.9MB/s eta 0:00:01\r\u001b[K     |███████████████▏                | 471kB 6.9MB/s eta 0:00:01\r\u001b[K     |███████████████▌                | 481kB 6.9MB/s eta 0:00:01\r\u001b[K     |███████████████▉                | 491kB 6.9MB/s eta 0:00:01\r\u001b[K     |████████████████▏               | 501kB 6.9MB/s eta 0:00:01\r\u001b[K     |████████████████▌               | 512kB 6.9MB/s eta 0:00:01\r\u001b[K     |████████████████▉               | 522kB 6.9MB/s eta 0:00:01\r\u001b[K     |█████████████████▏              | 532kB 6.9MB/s eta 0:00:01\r\u001b[K     |█████████████████▌              | 542kB 6.9MB/s eta 0:00:01\r\u001b[K     |█████████████████▉              | 552kB 6.9MB/s eta 0:00:01\r\u001b[K     |██████████████████▏             | 563kB 6.9MB/s eta 0:00:01\r\u001b[K     |██████████████████▌             | 573kB 6.9MB/s eta 0:00:01\r\u001b[K     |██████████████████▊             | 583kB 6.9MB/s eta 0:00:01\r\u001b[K     |███████████████████             | 593kB 6.9MB/s eta 0:00:01\r\u001b[K     |███████████████████▍            | 604kB 6.9MB/s eta 0:00:01\r\u001b[K     |███████████████████▊            | 614kB 6.9MB/s eta 0:00:01\r\u001b[K     |████████████████████            | 624kB 6.9MB/s eta 0:00:01\r\u001b[K     |████████████████████▍           | 634kB 6.9MB/s eta 0:00:01\r\u001b[K     |████████████████████▊           | 645kB 6.9MB/s eta 0:00:01\r\u001b[K     |█████████████████████           | 655kB 6.9MB/s eta 0:00:01\r\u001b[K     |█████████████████████▍          | 665kB 6.9MB/s eta 0:00:01\r\u001b[K     |█████████████████████▊          | 675kB 6.9MB/s eta 0:00:01\r\u001b[K     |██████████████████████          | 686kB 6.9MB/s eta 0:00:01\r\u001b[K     |██████████████████████▍         | 696kB 6.9MB/s eta 0:00:01\r\u001b[K     |██████████████████████▊         | 706kB 6.9MB/s eta 0:00:01\r\u001b[K     |███████████████████████         | 716kB 6.9MB/s eta 0:00:01\r\u001b[K     |███████████████████████▍        | 727kB 6.9MB/s eta 0:00:01\r\u001b[K     |███████████████████████▊        | 737kB 6.9MB/s eta 0:00:01\r\u001b[K     |████████████████████████        | 747kB 6.9MB/s eta 0:00:01\r\u001b[K     |████████████████████████▍       | 757kB 6.9MB/s eta 0:00:01\r\u001b[K     |████████████████████████▊       | 768kB 6.9MB/s eta 0:00:01\r\u001b[K     |█████████████████████████       | 778kB 6.9MB/s eta 0:00:01\r\u001b[K     |█████████████████████████▍      | 788kB 6.9MB/s eta 0:00:01\r\u001b[K     |█████████████████████████▊      | 798kB 6.9MB/s eta 0:00:01\r\u001b[K     |██████████████████████████      | 808kB 6.9MB/s eta 0:00:01\r\u001b[K     |██████████████████████████▍     | 819kB 6.9MB/s eta 0:00:01\r\u001b[K     |██████████████████████████▊     | 829kB 6.9MB/s eta 0:00:01\r\u001b[K     |███████████████████████████     | 839kB 6.9MB/s eta 0:00:01\r\u001b[K     |███████████████████████████▍    | 849kB 6.9MB/s eta 0:00:01\r\u001b[K     |███████████████████████████▊    | 860kB 6.9MB/s eta 0:00:01\r\u001b[K     |████████████████████████████    | 870kB 6.9MB/s eta 0:00:01\r\u001b[K     |████████████████████████████▎   | 880kB 6.9MB/s eta 0:00:01\r\u001b[K     |████████████████████████████▋   | 890kB 6.9MB/s eta 0:00:01\r\u001b[K     |█████████████████████████████   | 901kB 6.9MB/s eta 0:00:01\r\u001b[K     |█████████████████████████████▎  | 911kB 6.9MB/s eta 0:00:01\r\u001b[K     |█████████████████████████████▋  | 921kB 6.9MB/s eta 0:00:01\r\u001b[K     |██████████████████████████████  | 931kB 6.9MB/s eta 0:00:01\r\u001b[K     |██████████████████████████████▎ | 942kB 6.9MB/s eta 0:00:01\r\u001b[K     |██████████████████████████████▋ | 952kB 6.9MB/s eta 0:00:01\r\u001b[K     |███████████████████████████████ | 962kB 6.9MB/s eta 0:00:01\r\u001b[K     |███████████████████████████████▎| 972kB 6.9MB/s eta 0:00:01\r\u001b[K     |███████████████████████████████▋| 983kB 6.9MB/s eta 0:00:01\r\u001b[K     |████████████████████████████████| 993kB 6.9MB/s eta 0:00:01\r\u001b[K     |████████████████████████████████| 1.0MB 6.9MB/s \n",
            "\u001b[?25hRequirement already satisfied: shapely>=1.6 in /usr/local/lib/python3.7/dist-packages (from geopandas) (1.7.1)\n",
            "Requirement already satisfied: pandas>=0.24.0 in /usr/local/lib/python3.7/dist-packages (from geopandas) (1.1.5)\n",
            "Collecting pyproj>=2.2.0\n",
            "\u001b[?25l  Downloading https://files.pythonhosted.org/packages/11/1d/1c54c672c2faf08d28fe78e15d664c048f786225bef95ad87b6c435cf69e/pyproj-3.1.0-cp37-cp37m-manylinux2010_x86_64.whl (6.6MB)\n",
            "\u001b[K     |████████████████████████████████| 6.6MB 21.0MB/s \n",
            "\u001b[?25hCollecting fiona>=1.8\n",
            "\u001b[?25l  Downloading https://files.pythonhosted.org/packages/ea/2a/404b22883298a3efe9c6ef8d67acbf2c38443fa366ee9cd4cd34e17626ea/Fiona-1.8.19-cp37-cp37m-manylinux1_x86_64.whl (15.3MB)\n",
            "\u001b[K     |████████████████████████████████| 15.3MB 231kB/s \n",
            "\u001b[?25hRequirement already satisfied: numpy>=1.15.4 in /usr/local/lib/python3.7/dist-packages (from pandas>=0.24.0->geopandas) (1.19.5)\n",
            "Requirement already satisfied: python-dateutil>=2.7.3 in /usr/local/lib/python3.7/dist-packages (from pandas>=0.24.0->geopandas) (2.8.1)\n",
            "Requirement already satisfied: pytz>=2017.2 in /usr/local/lib/python3.7/dist-packages (from pandas>=0.24.0->geopandas) (2018.9)\n",
            "Requirement already satisfied: certifi in /usr/local/lib/python3.7/dist-packages (from pyproj>=2.2.0->geopandas) (2020.12.5)\n",
            "Collecting click-plugins>=1.0\n",
            "  Downloading https://files.pythonhosted.org/packages/e9/da/824b92d9942f4e472702488857914bdd50f73021efea15b4cad9aca8ecef/click_plugins-1.1.1-py2.py3-none-any.whl\n",
            "Requirement already satisfied: attrs>=17 in /usr/local/lib/python3.7/dist-packages (from fiona>=1.8->geopandas) (21.2.0)\n",
            "Collecting munch\n",
            "  Downloading https://files.pythonhosted.org/packages/cc/ab/85d8da5c9a45e072301beb37ad7f833cd344e04c817d97e0cc75681d248f/munch-2.5.0-py2.py3-none-any.whl\n",
            "Collecting cligj>=0.5\n",
            "  Downloading https://files.pythonhosted.org/packages/42/1e/947eadf10d6804bf276eb8a038bd5307996dceaaa41cfd21b7a15ec62f5d/cligj-0.7.1-py3-none-any.whl\n",
            "Requirement already satisfied: six>=1.7 in /usr/local/lib/python3.7/dist-packages (from fiona>=1.8->geopandas) (1.15.0)\n",
            "Requirement already satisfied: click<8,>=4.0 in /usr/local/lib/python3.7/dist-packages (from fiona>=1.8->geopandas) (7.1.2)\n",
            "Installing collected packages: pyproj, click-plugins, munch, cligj, fiona, geopandas\n",
            "Successfully installed click-plugins-1.1.1 cligj-0.7.1 fiona-1.8.19 geopandas-0.9.0 munch-2.5.0 pyproj-3.1.0\n"
          ],
          "name": "stdout"
        }
      ]
    },
    {
      "cell_type": "code",
      "metadata": {
        "id": "ysaiulofxOuW"
      },
      "source": [
        "#module\n",
        "import geopandas as gpd\n",
        "import pandas as pd\n",
        "from shapely.geometry import Point, Polygon, LineString"
      ],
      "execution_count": null,
      "outputs": []
    },
    {
      "cell_type": "code",
      "metadata": {
        "colab": {
          "base_uri": "https://localhost:8080/"
        },
        "id": "W9DQzf2cxRZd",
        "outputId": "b2e07b1b-c7b0-4a86-dbf7-d4368620a85b"
      },
      "source": [
        "#mount drive\n",
        "from google.colab import drive\n",
        "drive.mount('/content/gdrive/')"
      ],
      "execution_count": null,
      "outputs": [
        {
          "output_type": "stream",
          "text": [
            "Mounted at /content/gdrive/\n"
          ],
          "name": "stdout"
        }
      ]
    },
    {
      "cell_type": "code",
      "metadata": {
        "id": "JK1RzaCsxa2I"
      },
      "source": [
        "import pandas as pd\n",
        "df_police = pd.read_csv('/content/gdrive/MyDrive/daejeon_police_loc.csv',encoding='cp949') "
      ],
      "execution_count": null,
      "outputs": []
    },
    {
      "cell_type": "code",
      "metadata": {
        "colab": {
          "base_uri": "https://localhost:8080/",
          "height": 135
        },
        "id": "fsH8BBrQxsPM",
        "outputId": "5a1da226-4600-4c13-cfa2-7bad7674058a"
      },
      "source": [
        "df_police.head(3)"
      ],
      "execution_count": null,
      "outputs": [
        {
          "output_type": "execute_result",
          "data": {
            "text/html": [
              "<div>\n",
              "<style scoped>\n",
              "    .dataframe tbody tr th:only-of-type {\n",
              "        vertical-align: middle;\n",
              "    }\n",
              "\n",
              "    .dataframe tbody tr th {\n",
              "        vertical-align: top;\n",
              "    }\n",
              "\n",
              "    .dataframe thead th {\n",
              "        text-align: right;\n",
              "    }\n",
              "</style>\n",
              "<table border=\"1\" class=\"dataframe\">\n",
              "  <thead>\n",
              "    <tr style=\"text-align: right;\">\n",
              "      <th></th>\n",
              "      <th>name</th>\n",
              "      <th>lat</th>\n",
              "      <th>lon</th>\n",
              "    </tr>\n",
              "  </thead>\n",
              "  <tbody>\n",
              "    <tr>\n",
              "      <th>0</th>\n",
              "      <td>유성지구대</td>\n",
              "      <td>36.358105</td>\n",
              "      <td>127.350745</td>\n",
              "    </tr>\n",
              "    <tr>\n",
              "      <th>1</th>\n",
              "      <td>도룡지구대</td>\n",
              "      <td>36.385380</td>\n",
              "      <td>127.378127</td>\n",
              "    </tr>\n",
              "    <tr>\n",
              "      <th>2</th>\n",
              "      <td>노은지구대</td>\n",
              "      <td>36.375816</td>\n",
              "      <td>127.323142</td>\n",
              "    </tr>\n",
              "  </tbody>\n",
              "</table>\n",
              "</div>"
            ],
            "text/plain": [
              "   name         lat         lon\n",
              "0  유성지구대  36.358105  127.350745\n",
              "1  도룡지구대  36.385380  127.378127\n",
              "2  노은지구대  36.375816  127.323142"
            ]
          },
          "metadata": {
            "tags": []
          },
          "execution_count": 5
        }
      ]
    },
    {
      "cell_type": "code",
      "metadata": {
        "id": "ODBT6w9Cxw-i"
      },
      "source": [
        "#geometry\n",
        "df_police['geometry'] = df_police.apply(lambda row : Point([row['lat'], row['lon']]), axis=1)\n",
        "df_police = gpd.GeoDataFrame(df_police, geometry='geometry')"
      ],
      "execution_count": null,
      "outputs": []
    },
    {
      "cell_type": "code",
      "metadata": {
        "colab": {
          "base_uri": "https://localhost:8080/"
        },
        "id": "x8taF3gDyQeP",
        "outputId": "5134848d-caa2-4c40-aba3-868a97427d5d"
      },
      "source": [
        "df_police.info()"
      ],
      "execution_count": null,
      "outputs": [
        {
          "output_type": "stream",
          "text": [
            "<class 'geopandas.geodataframe.GeoDataFrame'>\n",
            "RangeIndex: 46 entries, 0 to 45\n",
            "Data columns (total 4 columns):\n",
            " #   Column    Non-Null Count  Dtype   \n",
            "---  ------    --------------  -----   \n",
            " 0   name      45 non-null     object  \n",
            " 1   lat       45 non-null     float64 \n",
            " 2   lon       45 non-null     float64 \n",
            " 3   geometry  46 non-null     geometry\n",
            "dtypes: float64(2), geometry(1), object(1)\n",
            "memory usage: 1.6+ KB\n"
          ],
          "name": "stdout"
        }
      ]
    },
    {
      "cell_type": "code",
      "metadata": {
        "id": "cV9ShdAUyVYL"
      },
      "source": [
        "df_police.to_file('/content/gdrive/MyDrive/daejeon_police_loc.geojson', driver='GeoJSON')"
      ],
      "execution_count": null,
      "outputs": []
    }
  ]
}