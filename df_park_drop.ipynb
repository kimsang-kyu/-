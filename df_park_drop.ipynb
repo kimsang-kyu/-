{
  "nbformat": 4,
  "nbformat_minor": 0,
  "metadata": {
    "colab": {
      "name": "df_park_drop.ipynb",
      "provenance": [],
      "authorship_tag": "ABX9TyOoEcP5Gy61XKWRbroxhoxt",
      "include_colab_link": true
    },
    "kernelspec": {
      "name": "python3",
      "display_name": "Python 3"
    },
    "language_info": {
      "name": "python"
    }
  },
  "cells": [
    {
      "cell_type": "markdown",
      "metadata": {
        "id": "view-in-github",
        "colab_type": "text"
      },
      "source": [
        "<a href=\"https://colab.research.google.com/github/kimsang-kyu/daejeon_bigdata/blob/main/df_park_drop.ipynb\" target=\"_parent\"><img src=\"https://colab.research.google.com/assets/colab-badge.svg\" alt=\"Open In Colab\"/></a>"
      ]
    },
    {
      "cell_type": "code",
      "metadata": {
        "colab": {
          "base_uri": "https://localhost:8080/"
        },
        "id": "NYctDfwHFmRj",
        "outputId": "169b79ea-dd62-416d-a7cd-68aeb3d8e212"
      },
      "source": [
        "pip install geopandas"
      ],
      "execution_count": null,
      "outputs": [
        {
          "output_type": "stream",
          "text": [
            "Collecting geopandas\n",
            "\u001b[?25l  Downloading https://files.pythonhosted.org/packages/d7/bf/e9cefb69d39155d122b6ddca53893b61535fa6ffdad70bf5ef708977f53f/geopandas-0.9.0-py2.py3-none-any.whl (994kB)\n",
            "\r\u001b[K     |▎                               | 10kB 13.7MB/s eta 0:00:01\r\u001b[K     |▋                               | 20kB 19.1MB/s eta 0:00:01\r\u001b[K     |█                               | 30kB 23.3MB/s eta 0:00:01\r\u001b[K     |█▎                              | 40kB 19.7MB/s eta 0:00:01\r\u001b[K     |█▋                              | 51kB 18.4MB/s eta 0:00:01\r\u001b[K     |██                              | 61kB 12.9MB/s eta 0:00:01\r\u001b[K     |██▎                             | 71kB 11.7MB/s eta 0:00:01\r\u001b[K     |██▋                             | 81kB 12.3MB/s eta 0:00:01\r\u001b[K     |███                             | 92kB 12.5MB/s eta 0:00:01\r\u001b[K     |███▎                            | 102kB 13.5MB/s eta 0:00:01\r\u001b[K     |███▋                            | 112kB 13.5MB/s eta 0:00:01\r\u001b[K     |████                            | 122kB 13.5MB/s eta 0:00:01\r\u001b[K     |████▎                           | 133kB 13.5MB/s eta 0:00:01\r\u001b[K     |████▋                           | 143kB 13.5MB/s eta 0:00:01\r\u001b[K     |█████                           | 153kB 13.5MB/s eta 0:00:01\r\u001b[K     |█████▎                          | 163kB 13.5MB/s eta 0:00:01\r\u001b[K     |█████▋                          | 174kB 13.5MB/s eta 0:00:01\r\u001b[K     |██████                          | 184kB 13.5MB/s eta 0:00:01\r\u001b[K     |██████▎                         | 194kB 13.5MB/s eta 0:00:01\r\u001b[K     |██████▋                         | 204kB 13.5MB/s eta 0:00:01\r\u001b[K     |███████                         | 215kB 13.5MB/s eta 0:00:01\r\u001b[K     |███████▎                        | 225kB 13.5MB/s eta 0:00:01\r\u001b[K     |███████▋                        | 235kB 13.5MB/s eta 0:00:01\r\u001b[K     |████████                        | 245kB 13.5MB/s eta 0:00:01\r\u001b[K     |████████▎                       | 256kB 13.5MB/s eta 0:00:01\r\u001b[K     |████████▋                       | 266kB 13.5MB/s eta 0:00:01\r\u001b[K     |█████████                       | 276kB 13.5MB/s eta 0:00:01\r\u001b[K     |█████████▎                      | 286kB 13.5MB/s eta 0:00:01\r\u001b[K     |█████████▌                      | 296kB 13.5MB/s eta 0:00:01\r\u001b[K     |█████████▉                      | 307kB 13.5MB/s eta 0:00:01\r\u001b[K     |██████████▏                     | 317kB 13.5MB/s eta 0:00:01\r\u001b[K     |██████████▌                     | 327kB 13.5MB/s eta 0:00:01\r\u001b[K     |██████████▉                     | 337kB 13.5MB/s eta 0:00:01\r\u001b[K     |███████████▏                    | 348kB 13.5MB/s eta 0:00:01\r\u001b[K     |███████████▌                    | 358kB 13.5MB/s eta 0:00:01\r\u001b[K     |███████████▉                    | 368kB 13.5MB/s eta 0:00:01\r\u001b[K     |████████████▏                   | 378kB 13.5MB/s eta 0:00:01\r\u001b[K     |████████████▌                   | 389kB 13.5MB/s eta 0:00:01\r\u001b[K     |████████████▉                   | 399kB 13.5MB/s eta 0:00:01\r\u001b[K     |█████████████▏                  | 409kB 13.5MB/s eta 0:00:01\r\u001b[K     |█████████████▌                  | 419kB 13.5MB/s eta 0:00:01\r\u001b[K     |█████████████▉                  | 430kB 13.5MB/s eta 0:00:01\r\u001b[K     |██████████████▏                 | 440kB 13.5MB/s eta 0:00:01\r\u001b[K     |██████████████▌                 | 450kB 13.5MB/s eta 0:00:01\r\u001b[K     |██████████████▉                 | 460kB 13.5MB/s eta 0:00:01\r\u001b[K     |███████████████▏                | 471kB 13.5MB/s eta 0:00:01\r\u001b[K     |███████████████▌                | 481kB 13.5MB/s eta 0:00:01\r\u001b[K     |███████████████▉                | 491kB 13.5MB/s eta 0:00:01\r\u001b[K     |████████████████▏               | 501kB 13.5MB/s eta 0:00:01\r\u001b[K     |████████████████▌               | 512kB 13.5MB/s eta 0:00:01\r\u001b[K     |████████████████▉               | 522kB 13.5MB/s eta 0:00:01\r\u001b[K     |█████████████████▏              | 532kB 13.5MB/s eta 0:00:01\r\u001b[K     |█████████████████▌              | 542kB 13.5MB/s eta 0:00:01\r\u001b[K     |█████████████████▉              | 552kB 13.5MB/s eta 0:00:01\r\u001b[K     |██████████████████▏             | 563kB 13.5MB/s eta 0:00:01\r\u001b[K     |██████████████████▌             | 573kB 13.5MB/s eta 0:00:01\r\u001b[K     |██████████████████▊             | 583kB 13.5MB/s eta 0:00:01\r\u001b[K     |███████████████████             | 593kB 13.5MB/s eta 0:00:01\r\u001b[K     |███████████████████▍            | 604kB 13.5MB/s eta 0:00:01\r\u001b[K     |███████████████████▊            | 614kB 13.5MB/s eta 0:00:01\r\u001b[K     |████████████████████            | 624kB 13.5MB/s eta 0:00:01\r\u001b[K     |████████████████████▍           | 634kB 13.5MB/s eta 0:00:01\r\u001b[K     |████████████████████▊           | 645kB 13.5MB/s eta 0:00:01\r\u001b[K     |█████████████████████           | 655kB 13.5MB/s eta 0:00:01\r\u001b[K     |█████████████████████▍          | 665kB 13.5MB/s eta 0:00:01\r\u001b[K     |█████████████████████▊          | 675kB 13.5MB/s eta 0:00:01\r\u001b[K     |██████████████████████          | 686kB 13.5MB/s eta 0:00:01\r\u001b[K     |██████████████████████▍         | 696kB 13.5MB/s eta 0:00:01\r\u001b[K     |██████████████████████▊         | 706kB 13.5MB/s eta 0:00:01\r\u001b[K     |███████████████████████         | 716kB 13.5MB/s eta 0:00:01\r\u001b[K     |███████████████████████▍        | 727kB 13.5MB/s eta 0:00:01\r\u001b[K     |███████████████████████▊        | 737kB 13.5MB/s eta 0:00:01\r\u001b[K     |████████████████████████        | 747kB 13.5MB/s eta 0:00:01\r\u001b[K     |████████████████████████▍       | 757kB 13.5MB/s eta 0:00:01\r\u001b[K     |████████████████████████▊       | 768kB 13.5MB/s eta 0:00:01\r\u001b[K     |█████████████████████████       | 778kB 13.5MB/s eta 0:00:01\r\u001b[K     |█████████████████████████▍      | 788kB 13.5MB/s eta 0:00:01\r\u001b[K     |█████████████████████████▊      | 798kB 13.5MB/s eta 0:00:01\r\u001b[K     |██████████████████████████      | 808kB 13.5MB/s eta 0:00:01\r\u001b[K     |██████████████████████████▍     | 819kB 13.5MB/s eta 0:00:01\r\u001b[K     |██████████████████████████▊     | 829kB 13.5MB/s eta 0:00:01\r\u001b[K     |███████████████████████████     | 839kB 13.5MB/s eta 0:00:01\r\u001b[K     |███████████████████████████▍    | 849kB 13.5MB/s eta 0:00:01\r\u001b[K     |███████████████████████████▊    | 860kB 13.5MB/s eta 0:00:01\r\u001b[K     |████████████████████████████    | 870kB 13.5MB/s eta 0:00:01\r\u001b[K     |████████████████████████████▎   | 880kB 13.5MB/s eta 0:00:01\r\u001b[K     |████████████████████████████▋   | 890kB 13.5MB/s eta 0:00:01\r\u001b[K     |█████████████████████████████   | 901kB 13.5MB/s eta 0:00:01\r\u001b[K     |█████████████████████████████▎  | 911kB 13.5MB/s eta 0:00:01\r\u001b[K     |█████████████████████████████▋  | 921kB 13.5MB/s eta 0:00:01\r\u001b[K     |██████████████████████████████  | 931kB 13.5MB/s eta 0:00:01\r\u001b[K     |██████████████████████████████▎ | 942kB 13.5MB/s eta 0:00:01\r\u001b[K     |██████████████████████████████▋ | 952kB 13.5MB/s eta 0:00:01\r\u001b[K     |███████████████████████████████ | 962kB 13.5MB/s eta 0:00:01\r\u001b[K     |███████████████████████████████▎| 972kB 13.5MB/s eta 0:00:01\r\u001b[K     |███████████████████████████████▋| 983kB 13.5MB/s eta 0:00:01\r\u001b[K     |████████████████████████████████| 993kB 13.5MB/s eta 0:00:01\r\u001b[K     |████████████████████████████████| 1.0MB 13.5MB/s \n",
            "\u001b[?25hRequirement already satisfied: shapely>=1.6 in /usr/local/lib/python3.7/dist-packages (from geopandas) (1.7.1)\n",
            "Collecting fiona>=1.8\n",
            "\u001b[?25l  Downloading https://files.pythonhosted.org/packages/ea/2a/404b22883298a3efe9c6ef8d67acbf2c38443fa366ee9cd4cd34e17626ea/Fiona-1.8.19-cp37-cp37m-manylinux1_x86_64.whl (15.3MB)\n",
            "\u001b[K     |████████████████████████████████| 15.3MB 260kB/s \n",
            "\u001b[?25hCollecting pyproj>=2.2.0\n",
            "\u001b[?25l  Downloading https://files.pythonhosted.org/packages/11/1d/1c54c672c2faf08d28fe78e15d664c048f786225bef95ad87b6c435cf69e/pyproj-3.1.0-cp37-cp37m-manylinux2010_x86_64.whl (6.6MB)\n",
            "\u001b[K     |████████████████████████████████| 6.6MB 21.5MB/s \n",
            "\u001b[?25hRequirement already satisfied: pandas>=0.24.0 in /usr/local/lib/python3.7/dist-packages (from geopandas) (1.1.5)\n",
            "Requirement already satisfied: certifi in /usr/local/lib/python3.7/dist-packages (from fiona>=1.8->geopandas) (2020.12.5)\n",
            "Requirement already satisfied: click<8,>=4.0 in /usr/local/lib/python3.7/dist-packages (from fiona>=1.8->geopandas) (7.1.2)\n",
            "Requirement already satisfied: attrs>=17 in /usr/local/lib/python3.7/dist-packages (from fiona>=1.8->geopandas) (21.2.0)\n",
            "Requirement already satisfied: six>=1.7 in /usr/local/lib/python3.7/dist-packages (from fiona>=1.8->geopandas) (1.15.0)\n",
            "Collecting munch\n",
            "  Downloading https://files.pythonhosted.org/packages/cc/ab/85d8da5c9a45e072301beb37ad7f833cd344e04c817d97e0cc75681d248f/munch-2.5.0-py2.py3-none-any.whl\n",
            "Collecting click-plugins>=1.0\n",
            "  Downloading https://files.pythonhosted.org/packages/e9/da/824b92d9942f4e472702488857914bdd50f73021efea15b4cad9aca8ecef/click_plugins-1.1.1-py2.py3-none-any.whl\n",
            "Collecting cligj>=0.5\n",
            "  Downloading https://files.pythonhosted.org/packages/42/1e/947eadf10d6804bf276eb8a038bd5307996dceaaa41cfd21b7a15ec62f5d/cligj-0.7.1-py3-none-any.whl\n",
            "Requirement already satisfied: python-dateutil>=2.7.3 in /usr/local/lib/python3.7/dist-packages (from pandas>=0.24.0->geopandas) (2.8.1)\n",
            "Requirement already satisfied: numpy>=1.15.4 in /usr/local/lib/python3.7/dist-packages (from pandas>=0.24.0->geopandas) (1.19.5)\n",
            "Requirement already satisfied: pytz>=2017.2 in /usr/local/lib/python3.7/dist-packages (from pandas>=0.24.0->geopandas) (2018.9)\n",
            "Installing collected packages: munch, click-plugins, cligj, fiona, pyproj, geopandas\n",
            "Successfully installed click-plugins-1.1.1 cligj-0.7.1 fiona-1.8.19 geopandas-0.9.0 munch-2.5.0 pyproj-3.1.0\n"
          ],
          "name": "stdout"
        }
      ]
    },
    {
      "cell_type": "code",
      "metadata": {
        "id": "eCd8ZfbhGalo"
      },
      "source": [
        "#module\n",
        "import geopandas as gpd"
      ],
      "execution_count": null,
      "outputs": []
    },
    {
      "cell_type": "code",
      "metadata": {
        "colab": {
          "base_uri": "https://localhost:8080/"
        },
        "id": "uVaMYuVFG_PZ",
        "outputId": "03c51c78-7c7d-4ccb-8038-39392862223e"
      },
      "source": [
        "#mount drive\n",
        "from google.colab import drive\n",
        "drive.mount('/content/gdrive/')"
      ],
      "execution_count": null,
      "outputs": [
        {
          "output_type": "stream",
          "text": [
            "Mounted at /content/gdrive/\n"
          ],
          "name": "stdout"
        }
      ]
    },
    {
      "cell_type": "code",
      "metadata": {
        "id": "rnklw6tBHE6Z"
      },
      "source": [
        "import pandas as pd\n",
        "df=gpd.read_file('/content/gdrive/MyDrive/df_drop.geojson',encoding='cp949') "
      ],
      "execution_count": null,
      "outputs": []
    },
    {
      "cell_type": "code",
      "metadata": {
        "colab": {
          "base_uri": "https://localhost:8080/",
          "height": 547
        },
        "id": "xlIKwyBxHOu4",
        "outputId": "1e9ca46b-de69-492f-de62-3c93c8c6135f"
      },
      "source": [
        "df.head()"
      ],
      "execution_count": null,
      "outputs": [
        {
          "output_type": "execute_result",
          "data": {
            "text/html": [
              "<div>\n",
              "<style scoped>\n",
              "    .dataframe tbody tr th:only-of-type {\n",
              "        vertical-align: middle;\n",
              "    }\n",
              "\n",
              "    .dataframe tbody tr th {\n",
              "        vertical-align: top;\n",
              "    }\n",
              "\n",
              "    .dataframe thead th {\n",
              "        text-align: right;\n",
              "    }\n",
              "</style>\n",
              "<table border=\"1\" class=\"dataframe\">\n",
              "  <thead>\n",
              "    <tr style=\"text-align: right;\">\n",
              "      <th></th>\n",
              "      <th>index</th>\n",
              "      <th>num</th>\n",
              "      <th>name</th>\n",
              "      <th>type</th>\n",
              "      <th>r_address</th>\n",
              "      <th>l_address</th>\n",
              "      <th>lat</th>\n",
              "      <th>lon</th>\n",
              "      <th>p_area</th>\n",
              "      <th>e_facility</th>\n",
              "      <th>f_facility</th>\n",
              "      <th>c_facility</th>\n",
              "      <th>r_facility</th>\n",
              "      <th>etc</th>\n",
              "      <th>p_date</th>\n",
              "      <th>m_agency</th>\n",
              "      <th>p_num</th>\n",
              "      <th>s_date</th>\n",
              "      <th>prov_code</th>\n",
              "      <th>prov_name</th>\n",
              "      <th>geometry</th>\n",
              "    </tr>\n",
              "  </thead>\n",
              "  <tbody>\n",
              "    <tr>\n",
              "      <th>0</th>\n",
              "      <td>0</td>\n",
              "      <td>30110-00033</td>\n",
              "      <td>낭월7호공원</td>\n",
              "      <td>어린이공원</td>\n",
              "      <td>None</td>\n",
              "      <td>대전광역시 동구 낭월동 492</td>\n",
              "      <td>36.278667</td>\n",
              "      <td>127.464941</td>\n",
              "      <td>5287.9</td>\n",
              "      <td>스트레칭롤라, 롤링웨이스트, 트윈트위스트, 풀웨이트, 크로스컨트리</td>\n",
              "      <td>조합놀이대</td>\n",
              "      <td>파고라,음수대</td>\n",
              "      <td>None</td>\n",
              "      <td>None</td>\n",
              "      <td>2004-04-29</td>\n",
              "      <td>대전광역시 동구청</td>\n",
              "      <td>042-251-4755</td>\n",
              "      <td>2019-09-23</td>\n",
              "      <td>3640000</td>\n",
              "      <td>대전광역시 동구</td>\n",
              "      <td>POINT (127.46494 36.27867)</td>\n",
              "    </tr>\n",
              "    <tr>\n",
              "      <th>1</th>\n",
              "      <td>1</td>\n",
              "      <td>30110-00034</td>\n",
              "      <td>낭월8호공원</td>\n",
              "      <td>어린이공원</td>\n",
              "      <td>None</td>\n",
              "      <td>대전광역시 동구 낭월동 642</td>\n",
              "      <td>36.278374</td>\n",
              "      <td>127.470149</td>\n",
              "      <td>2078.0</td>\n",
              "      <td>크로스컨트리, 풀웨이트, 트위스트</td>\n",
              "      <td>조합놀이대</td>\n",
              "      <td>파고라,음수대</td>\n",
              "      <td>None</td>\n",
              "      <td>None</td>\n",
              "      <td>2004-04-29</td>\n",
              "      <td>대전광역시 동구청</td>\n",
              "      <td>042-251-4755</td>\n",
              "      <td>2019-09-23</td>\n",
              "      <td>3640000</td>\n",
              "      <td>대전광역시 동구</td>\n",
              "      <td>POINT (127.47015 36.27837)</td>\n",
              "    </tr>\n",
              "    <tr>\n",
              "      <th>2</th>\n",
              "      <td>2</td>\n",
              "      <td>30110-00048</td>\n",
              "      <td>동광공원</td>\n",
              "      <td>어린이공원</td>\n",
              "      <td>None</td>\n",
              "      <td>대전광역시 동구 자양동 94-6</td>\n",
              "      <td>36.336528</td>\n",
              "      <td>127.449200</td>\n",
              "      <td>1664.3</td>\n",
              "      <td>트윈바디싯업, 스트레칭롤라, 롤링웨이스트, 트윈트위스트, 크로스컨트리, 체어웨이트</td>\n",
              "      <td>조합놀이대3</td>\n",
              "      <td>파고라</td>\n",
              "      <td>None</td>\n",
              "      <td>None</td>\n",
              "      <td>2007-11-14</td>\n",
              "      <td>대전광역시 동구청</td>\n",
              "      <td>042-251-4755</td>\n",
              "      <td>2019-09-23</td>\n",
              "      <td>3640000</td>\n",
              "      <td>대전광역시 동구</td>\n",
              "      <td>POINT (127.44920 36.33653)</td>\n",
              "    </tr>\n",
              "    <tr>\n",
              "      <th>3</th>\n",
              "      <td>3</td>\n",
              "      <td>30110-00057</td>\n",
              "      <td>구도공원</td>\n",
              "      <td>근린공원</td>\n",
              "      <td>None</td>\n",
              "      <td>대전광역시 동구 구도동 388</td>\n",
              "      <td>36.269460</td>\n",
              "      <td>127.469211</td>\n",
              "      <td>39056.8</td>\n",
              "      <td>워밍쇼울더, 에어서핑, 체어웨이트</td>\n",
              "      <td>None</td>\n",
              "      <td>화장실,팔각정자 2</td>\n",
              "      <td>None</td>\n",
              "      <td>None</td>\n",
              "      <td>2009-01-09</td>\n",
              "      <td>대전광역시 동구청</td>\n",
              "      <td>042-251-4755</td>\n",
              "      <td>2019-09-23</td>\n",
              "      <td>3640000</td>\n",
              "      <td>대전광역시 동구</td>\n",
              "      <td>POINT (127.46921 36.26946)</td>\n",
              "    </tr>\n",
              "    <tr>\n",
              "      <th>4</th>\n",
              "      <td>4</td>\n",
              "      <td>30110-00058</td>\n",
              "      <td>옥토끼공원</td>\n",
              "      <td>어린이공원</td>\n",
              "      <td>None</td>\n",
              "      <td>대전광역시 동구 낭월동 810</td>\n",
              "      <td>36.275251</td>\n",
              "      <td>127.467223</td>\n",
              "      <td>1501.5</td>\n",
              "      <td>레그프레스, 워밍암, 스텝사이클, 롤링웨이스트, 체어풀</td>\n",
              "      <td>조합놀이대,흔들놀이2,회전놀이</td>\n",
              "      <td>화장실,파고라</td>\n",
              "      <td>None</td>\n",
              "      <td>None</td>\n",
              "      <td>2009-01-09</td>\n",
              "      <td>대전광역시 동구청</td>\n",
              "      <td>042-251-4755</td>\n",
              "      <td>2019-09-23</td>\n",
              "      <td>3640000</td>\n",
              "      <td>대전광역시 동구</td>\n",
              "      <td>POINT (127.46722 36.27525)</td>\n",
              "    </tr>\n",
              "  </tbody>\n",
              "</table>\n",
              "</div>"
            ],
            "text/plain": [
              "   index          num    name  ... prov_code prov_name                    geometry\n",
              "0      0  30110-00033  낭월7호공원  ...   3640000  대전광역시 동구  POINT (127.46494 36.27867)\n",
              "1      1  30110-00034  낭월8호공원  ...   3640000  대전광역시 동구  POINT (127.47015 36.27837)\n",
              "2      2  30110-00048    동광공원  ...   3640000  대전광역시 동구  POINT (127.44920 36.33653)\n",
              "3      3  30110-00057    구도공원  ...   3640000  대전광역시 동구  POINT (127.46921 36.26946)\n",
              "4      4  30110-00058   옥토끼공원  ...   3640000  대전광역시 동구  POINT (127.46722 36.27525)\n",
              "\n",
              "[5 rows x 21 columns]"
            ]
          },
          "metadata": {
            "tags": []
          },
          "execution_count": 6
        }
      ]
    },
    {
      "cell_type": "code",
      "metadata": {
        "id": "N6leWjvrHTQC"
      },
      "source": [
        "df_yousung = df[df['prov_name']=='대전광역시 유성구']"
      ],
      "execution_count": null,
      "outputs": []
    },
    {
      "cell_type": "code",
      "metadata": {
        "id": "kfnousbTHg3I"
      },
      "source": [
        "df_yousung.to_csv('df_yousung.csv', index=False, encoding='cp949')"
      ],
      "execution_count": null,
      "outputs": []
    }
  ]
}