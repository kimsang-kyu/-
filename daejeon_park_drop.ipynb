{
  "nbformat": 4,
  "nbformat_minor": 0,
  "metadata": {
    "colab": {
      "name": "daejeon_park_drop.ipynb",
      "provenance": [],
      "collapsed_sections": [],
      "toc_visible": true,
      "authorship_tag": "ABX9TyOr06WtzRRhUWb+VkBOH5X+",
      "include_colab_link": true
    },
    "kernelspec": {
      "name": "python3",
      "display_name": "Python 3"
    },
    "language_info": {
      "name": "python"
    }
  },
  "cells": [
    {
      "cell_type": "markdown",
      "metadata": {
        "id": "view-in-github",
        "colab_type": "text"
      },
      "source": [
        "<a href=\"https://colab.research.google.com/github/kimsang-kyu/daejeon_bigdata/blob/main/daejeon_park_drop.ipynb\" target=\"_parent\"><img src=\"https://colab.research.google.com/assets/colab-badge.svg\" alt=\"Open In Colab\"/></a>"
      ]
    },
    {
      "cell_type": "code",
      "metadata": {
        "colab": {
          "base_uri": "https://localhost:8080/"
        },
        "id": "NYctDfwHFmRj",
        "outputId": "29fef5c1-14a2-45c4-9b02-368f7dbaf5ca"
      },
      "source": [
        "pip install geopandas"
      ],
      "execution_count": null,
      "outputs": [
        {
          "output_type": "stream",
          "text": [
            "Collecting geopandas\n",
            "\u001b[?25l  Downloading https://files.pythonhosted.org/packages/d7/bf/e9cefb69d39155d122b6ddca53893b61535fa6ffdad70bf5ef708977f53f/geopandas-0.9.0-py2.py3-none-any.whl (994kB)\n",
            "\u001b[K     |████████████████████████████████| 1.0MB 4.1MB/s \n",
            "\u001b[?25hCollecting fiona>=1.8\n",
            "\u001b[?25l  Downloading https://files.pythonhosted.org/packages/9c/fc/9807326c37a6bfb2393ae3e1cca147aa74844562c4d5daa782d6e97ad2bc/Fiona-1.8.20-cp37-cp37m-manylinux1_x86_64.whl (15.4MB)\n",
            "\u001b[K     |████████████████████████████████| 15.4MB 271kB/s \n",
            "\u001b[?25hCollecting pyproj>=2.2.0\n",
            "\u001b[?25l  Downloading https://files.pythonhosted.org/packages/11/1d/1c54c672c2faf08d28fe78e15d664c048f786225bef95ad87b6c435cf69e/pyproj-3.1.0-cp37-cp37m-manylinux2010_x86_64.whl (6.6MB)\n",
            "\u001b[K     |████████████████████████████████| 6.6MB 22.7MB/s \n",
            "\u001b[?25hRequirement already satisfied: pandas>=0.24.0 in /usr/local/lib/python3.7/dist-packages (from geopandas) (1.1.5)\n",
            "Requirement already satisfied: shapely>=1.6 in /usr/local/lib/python3.7/dist-packages (from geopandas) (1.7.1)\n",
            "Requirement already satisfied: six>=1.7 in /usr/local/lib/python3.7/dist-packages (from fiona>=1.8->geopandas) (1.15.0)\n",
            "Requirement already satisfied: certifi in /usr/local/lib/python3.7/dist-packages (from fiona>=1.8->geopandas) (2020.12.5)\n",
            "Requirement already satisfied: attrs>=17 in /usr/local/lib/python3.7/dist-packages (from fiona>=1.8->geopandas) (21.2.0)\n",
            "Collecting cligj>=0.5\n",
            "  Downloading https://files.pythonhosted.org/packages/73/86/43fa9f15c5b9fb6e82620428827cd3c284aa933431405d1bcf5231ae3d3e/cligj-0.7.2-py3-none-any.whl\n",
            "Requirement already satisfied: click>=4.0 in /usr/local/lib/python3.7/dist-packages (from fiona>=1.8->geopandas) (7.1.2)\n",
            "Requirement already satisfied: setuptools in /usr/local/lib/python3.7/dist-packages (from fiona>=1.8->geopandas) (56.1.0)\n",
            "Collecting munch\n",
            "  Downloading https://files.pythonhosted.org/packages/cc/ab/85d8da5c9a45e072301beb37ad7f833cd344e04c817d97e0cc75681d248f/munch-2.5.0-py2.py3-none-any.whl\n",
            "Collecting click-plugins>=1.0\n",
            "  Downloading https://files.pythonhosted.org/packages/e9/da/824b92d9942f4e472702488857914bdd50f73021efea15b4cad9aca8ecef/click_plugins-1.1.1-py2.py3-none-any.whl\n",
            "Requirement already satisfied: numpy>=1.15.4 in /usr/local/lib/python3.7/dist-packages (from pandas>=0.24.0->geopandas) (1.19.5)\n",
            "Requirement already satisfied: pytz>=2017.2 in /usr/local/lib/python3.7/dist-packages (from pandas>=0.24.0->geopandas) (2018.9)\n",
            "Requirement already satisfied: python-dateutil>=2.7.3 in /usr/local/lib/python3.7/dist-packages (from pandas>=0.24.0->geopandas) (2.8.1)\n",
            "Installing collected packages: cligj, munch, click-plugins, fiona, pyproj, geopandas\n",
            "Successfully installed click-plugins-1.1.1 cligj-0.7.2 fiona-1.8.20 geopandas-0.9.0 munch-2.5.0 pyproj-3.1.0\n"
          ],
          "name": "stdout"
        }
      ]
    },
    {
      "cell_type": "code",
      "metadata": {
        "id": "eCd8ZfbhGalo"
      },
      "source": [
        "#module\n",
        "import geopandas as gpd\n",
        "import pandas as pd"
      ],
      "execution_count": null,
      "outputs": []
    },
    {
      "cell_type": "code",
      "metadata": {
        "colab": {
          "base_uri": "https://localhost:8080/"
        },
        "id": "uVaMYuVFG_PZ",
        "outputId": "13953549-b822-466c-e319-9b4e2eb3bb75"
      },
      "source": [
        "#mount drive\n",
        "from google.colab import drive\n",
        "drive.mount('/content/gdrive/')"
      ],
      "execution_count": null,
      "outputs": [
        {
          "output_type": "stream",
          "text": [
            "Mounted at /content/gdrive/\n"
          ],
          "name": "stdout"
        }
      ]
    },
    {
      "cell_type": "code",
      "metadata": {
        "id": "M_D52U8bkJxu"
      },
      "source": [
        "df=gpd.read_file('/content/gdrive/MyDrive/df_parkpolygon.geojson',encoding='cp949') \n",
        "#df_drop = pd.read_csv('/content/gdrive/MyDrive/df_drop.csv',encoding='cp949') "
      ],
      "execution_count": null,
      "outputs": []
    },
    {
      "cell_type": "code",
      "metadata": {
        "colab": {
          "base_uri": "https://localhost:8080/",
          "height": 581
        },
        "id": "yo1tH-x1Arjj",
        "outputId": "88255725-7cda-4a49-fc97-fed015d2f635"
      },
      "source": [
        "df.head()"
      ],
      "execution_count": null,
      "outputs": [
        {
          "output_type": "execute_result",
          "data": {
            "text/html": [
              "<div>\n",
              "<style scoped>\n",
              "    .dataframe tbody tr th:only-of-type {\n",
              "        vertical-align: middle;\n",
              "    }\n",
              "\n",
              "    .dataframe tbody tr th {\n",
              "        vertical-align: top;\n",
              "    }\n",
              "\n",
              "    .dataframe thead th {\n",
              "        text-align: right;\n",
              "    }\n",
              "</style>\n",
              "<table border=\"1\" class=\"dataframe\">\n",
              "  <thead>\n",
              "    <tr style=\"text-align: right;\">\n",
              "      <th></th>\n",
              "      <th>index</th>\n",
              "      <th>num</th>\n",
              "      <th>name</th>\n",
              "      <th>type</th>\n",
              "      <th>r_address</th>\n",
              "      <th>l_address</th>\n",
              "      <th>lat</th>\n",
              "      <th>lon</th>\n",
              "      <th>p_area</th>\n",
              "      <th>e_facility</th>\n",
              "      <th>f_facility</th>\n",
              "      <th>c_facility</th>\n",
              "      <th>r_facility</th>\n",
              "      <th>etc</th>\n",
              "      <th>p_date</th>\n",
              "      <th>m_agency</th>\n",
              "      <th>p_num</th>\n",
              "      <th>s_date</th>\n",
              "      <th>prov_code</th>\n",
              "      <th>prov_name</th>\n",
              "      <th>park_num</th>\n",
              "      <th>count</th>\n",
              "      <th>id</th>\n",
              "      <th>geometry</th>\n",
              "    </tr>\n",
              "  </thead>\n",
              "  <tbody>\n",
              "    <tr>\n",
              "      <th>0</th>\n",
              "      <td>0</td>\n",
              "      <td>30110-00033</td>\n",
              "      <td>낭월7호공원</td>\n",
              "      <td>어린이공원</td>\n",
              "      <td>None</td>\n",
              "      <td>대전광역시 동구 낭월동 492</td>\n",
              "      <td>36.278667</td>\n",
              "      <td>127.464941</td>\n",
              "      <td>5287.9</td>\n",
              "      <td>스트레칭롤라, 롤링웨이스트, 트윈트위스트, 풀웨이트, 크로스컨트리</td>\n",
              "      <td>조합놀이대</td>\n",
              "      <td>파고라,음수대</td>\n",
              "      <td>None</td>\n",
              "      <td>None</td>\n",
              "      <td>2004-04-29</td>\n",
              "      <td>대전광역시 동구청</td>\n",
              "      <td>042-251-4755</td>\n",
              "      <td>2019-09-23</td>\n",
              "      <td>3640000</td>\n",
              "      <td>대전광역시 동구</td>\n",
              "      <td>30110-00033</td>\n",
              "      <td>10</td>\n",
              "      <td>None</td>\n",
              "      <td>MULTIPOLYGON (((127.46436 36.27892, 127.46444 ...</td>\n",
              "    </tr>\n",
              "    <tr>\n",
              "      <th>1</th>\n",
              "      <td>1</td>\n",
              "      <td>30110-00034</td>\n",
              "      <td>낭월8호공원</td>\n",
              "      <td>어린이공원</td>\n",
              "      <td>None</td>\n",
              "      <td>대전광역시 동구 낭월동 642</td>\n",
              "      <td>36.278374</td>\n",
              "      <td>127.470149</td>\n",
              "      <td>2078.0</td>\n",
              "      <td>크로스컨트리, 풀웨이트, 트위스트</td>\n",
              "      <td>조합놀이대</td>\n",
              "      <td>파고라,음수대</td>\n",
              "      <td>None</td>\n",
              "      <td>None</td>\n",
              "      <td>2004-04-29</td>\n",
              "      <td>대전광역시 동구청</td>\n",
              "      <td>042-251-4755</td>\n",
              "      <td>2019-09-23</td>\n",
              "      <td>3640000</td>\n",
              "      <td>대전광역시 동구</td>\n",
              "      <td>30110-00034</td>\n",
              "      <td>5</td>\n",
              "      <td>None</td>\n",
              "      <td>MULTIPOLYGON (((127.46972 36.27858, 127.46983 ...</td>\n",
              "    </tr>\n",
              "    <tr>\n",
              "      <th>2</th>\n",
              "      <td>2</td>\n",
              "      <td>30110-00048</td>\n",
              "      <td>동광공원</td>\n",
              "      <td>어린이공원</td>\n",
              "      <td>None</td>\n",
              "      <td>대전광역시 동구 자양동 94-6</td>\n",
              "      <td>36.336528</td>\n",
              "      <td>127.449200</td>\n",
              "      <td>1664.3</td>\n",
              "      <td>트윈바디싯업, 스트레칭롤라, 롤링웨이스트, 트윈트위스트, 크로스컨트리, 체어웨이트</td>\n",
              "      <td>조합놀이대3</td>\n",
              "      <td>파고라</td>\n",
              "      <td>None</td>\n",
              "      <td>None</td>\n",
              "      <td>2007-11-14</td>\n",
              "      <td>대전광역시 동구청</td>\n",
              "      <td>042-251-4755</td>\n",
              "      <td>2019-09-23</td>\n",
              "      <td>3640000</td>\n",
              "      <td>대전광역시 동구</td>\n",
              "      <td>30110-00048</td>\n",
              "      <td>4</td>\n",
              "      <td>None</td>\n",
              "      <td>MULTIPOLYGON (((127.44913 36.33669, 127.44898 ...</td>\n",
              "    </tr>\n",
              "    <tr>\n",
              "      <th>3</th>\n",
              "      <td>3</td>\n",
              "      <td>30110-00057</td>\n",
              "      <td>구도공원</td>\n",
              "      <td>근린공원</td>\n",
              "      <td>None</td>\n",
              "      <td>대전광역시 동구 구도동 388</td>\n",
              "      <td>36.269460</td>\n",
              "      <td>127.469211</td>\n",
              "      <td>39056.8</td>\n",
              "      <td>워밍쇼울더, 에어서핑, 체어웨이트</td>\n",
              "      <td>None</td>\n",
              "      <td>화장실,팔각정자 2</td>\n",
              "      <td>None</td>\n",
              "      <td>None</td>\n",
              "      <td>2009-01-09</td>\n",
              "      <td>대전광역시 동구청</td>\n",
              "      <td>042-251-4755</td>\n",
              "      <td>2019-09-23</td>\n",
              "      <td>3640000</td>\n",
              "      <td>대전광역시 동구</td>\n",
              "      <td>30110-00057</td>\n",
              "      <td>10</td>\n",
              "      <td>None</td>\n",
              "      <td>MULTIPOLYGON (((127.46629 36.27138, 127.46668 ...</td>\n",
              "    </tr>\n",
              "    <tr>\n",
              "      <th>4</th>\n",
              "      <td>4</td>\n",
              "      <td>30110-00058</td>\n",
              "      <td>옥토끼공원</td>\n",
              "      <td>어린이공원</td>\n",
              "      <td>None</td>\n",
              "      <td>대전광역시 동구 낭월동 810</td>\n",
              "      <td>36.275251</td>\n",
              "      <td>127.467223</td>\n",
              "      <td>1501.5</td>\n",
              "      <td>레그프레스, 워밍암, 스텝사이클, 롤링웨이스트, 체어풀</td>\n",
              "      <td>조합놀이대,흔들놀이2,회전놀이</td>\n",
              "      <td>화장실,파고라</td>\n",
              "      <td>None</td>\n",
              "      <td>None</td>\n",
              "      <td>2009-01-09</td>\n",
              "      <td>대전광역시 동구청</td>\n",
              "      <td>042-251-4755</td>\n",
              "      <td>2019-09-23</td>\n",
              "      <td>3640000</td>\n",
              "      <td>대전광역시 동구</td>\n",
              "      <td>30110-00058</td>\n",
              "      <td>5</td>\n",
              "      <td>None</td>\n",
              "      <td>MULTIPOLYGON (((127.46718 36.27546, 127.46704 ...</td>\n",
              "    </tr>\n",
              "  </tbody>\n",
              "</table>\n",
              "</div>"
            ],
            "text/plain": [
              "   index          num  ...    id                                           geometry\n",
              "0      0  30110-00033  ...  None  MULTIPOLYGON (((127.46436 36.27892, 127.46444 ...\n",
              "1      1  30110-00034  ...  None  MULTIPOLYGON (((127.46972 36.27858, 127.46983 ...\n",
              "2      2  30110-00048  ...  None  MULTIPOLYGON (((127.44913 36.33669, 127.44898 ...\n",
              "3      3  30110-00057  ...  None  MULTIPOLYGON (((127.46629 36.27138, 127.46668 ...\n",
              "4      4  30110-00058  ...  None  MULTIPOLYGON (((127.46718 36.27546, 127.46704 ...\n",
              "\n",
              "[5 rows x 24 columns]"
            ]
          },
          "metadata": {
            "tags": []
          },
          "execution_count": 5
        }
      ]
    },
    {
      "cell_type": "code",
      "metadata": {
        "colab": {
          "base_uri": "https://localhost:8080/",
          "height": 328
        },
        "id": "xlIKwyBxHOu4",
        "outputId": "e738bf58-89be-4454-9443-e7ef8df2988a"
      },
      "source": [
        "df_drop.head(3)"
      ],
      "execution_count": null,
      "outputs": [
        {
          "output_type": "execute_result",
          "data": {
            "text/html": [
              "<div>\n",
              "<style scoped>\n",
              "    .dataframe tbody tr th:only-of-type {\n",
              "        vertical-align: middle;\n",
              "    }\n",
              "\n",
              "    .dataframe tbody tr th {\n",
              "        vertical-align: top;\n",
              "    }\n",
              "\n",
              "    .dataframe thead th {\n",
              "        text-align: right;\n",
              "    }\n",
              "</style>\n",
              "<table border=\"1\" class=\"dataframe\">\n",
              "  <thead>\n",
              "    <tr style=\"text-align: right;\">\n",
              "      <th></th>\n",
              "      <th>index</th>\n",
              "      <th>num</th>\n",
              "      <th>name</th>\n",
              "      <th>type</th>\n",
              "      <th>r_address</th>\n",
              "      <th>l_address</th>\n",
              "      <th>lat</th>\n",
              "      <th>lon</th>\n",
              "      <th>p_area</th>\n",
              "      <th>e_facility</th>\n",
              "      <th>f_facility</th>\n",
              "      <th>c_facility</th>\n",
              "      <th>r_facility</th>\n",
              "      <th>etc</th>\n",
              "      <th>p_date</th>\n",
              "      <th>m_agency</th>\n",
              "      <th>p_num</th>\n",
              "      <th>s_date</th>\n",
              "      <th>prov_code</th>\n",
              "      <th>prov_name</th>\n",
              "      <th>geometry</th>\n",
              "    </tr>\n",
              "  </thead>\n",
              "  <tbody>\n",
              "    <tr>\n",
              "      <th>0</th>\n",
              "      <td>0</td>\n",
              "      <td>30110-00033</td>\n",
              "      <td>낭월7호공원</td>\n",
              "      <td>어린이공원</td>\n",
              "      <td>NaN</td>\n",
              "      <td>대전광역시 동구 낭월동 492</td>\n",
              "      <td>36.278667</td>\n",
              "      <td>127.464941</td>\n",
              "      <td>5287.9</td>\n",
              "      <td>스트레칭롤라, 롤링웨이스트, 트윈트위스트, 풀웨이트, 크로스컨트리</td>\n",
              "      <td>조합놀이대</td>\n",
              "      <td>파고라,음수대</td>\n",
              "      <td>NaN</td>\n",
              "      <td>NaN</td>\n",
              "      <td>2004-04-29</td>\n",
              "      <td>대전광역시 동구청</td>\n",
              "      <td>042-251-4755</td>\n",
              "      <td>2019-09-23</td>\n",
              "      <td>3640000</td>\n",
              "      <td>대전광역시 동구</td>\n",
              "      <td>POINT (127.464941 36.278667)</td>\n",
              "    </tr>\n",
              "    <tr>\n",
              "      <th>1</th>\n",
              "      <td>1</td>\n",
              "      <td>30110-00034</td>\n",
              "      <td>낭월8호공원</td>\n",
              "      <td>어린이공원</td>\n",
              "      <td>NaN</td>\n",
              "      <td>대전광역시 동구 낭월동 642</td>\n",
              "      <td>36.278374</td>\n",
              "      <td>127.470149</td>\n",
              "      <td>2078.0</td>\n",
              "      <td>크로스컨트리, 풀웨이트, 트위스트</td>\n",
              "      <td>조합놀이대</td>\n",
              "      <td>파고라,음수대</td>\n",
              "      <td>NaN</td>\n",
              "      <td>NaN</td>\n",
              "      <td>2004-04-29</td>\n",
              "      <td>대전광역시 동구청</td>\n",
              "      <td>042-251-4755</td>\n",
              "      <td>2019-09-23</td>\n",
              "      <td>3640000</td>\n",
              "      <td>대전광역시 동구</td>\n",
              "      <td>POINT (127.470149 36.278374)</td>\n",
              "    </tr>\n",
              "    <tr>\n",
              "      <th>2</th>\n",
              "      <td>2</td>\n",
              "      <td>30110-00048</td>\n",
              "      <td>동광공원</td>\n",
              "      <td>어린이공원</td>\n",
              "      <td>NaN</td>\n",
              "      <td>대전광역시 동구 자양동 94-6</td>\n",
              "      <td>36.336528</td>\n",
              "      <td>127.449200</td>\n",
              "      <td>1664.3</td>\n",
              "      <td>트윈바디싯업, 스트레칭롤라, 롤링웨이스트, 트윈트위스트, 크로스컨트리, 체어웨이트</td>\n",
              "      <td>조합놀이대3</td>\n",
              "      <td>파고라</td>\n",
              "      <td>NaN</td>\n",
              "      <td>NaN</td>\n",
              "      <td>2007-11-14</td>\n",
              "      <td>대전광역시 동구청</td>\n",
              "      <td>042-251-4755</td>\n",
              "      <td>2019-09-23</td>\n",
              "      <td>3640000</td>\n",
              "      <td>대전광역시 동구</td>\n",
              "      <td>POINT (127.4491996 36.336528)</td>\n",
              "    </tr>\n",
              "  </tbody>\n",
              "</table>\n",
              "</div>"
            ],
            "text/plain": [
              "   index          num  ... prov_name                       geometry\n",
              "0      0  30110-00033  ...  대전광역시 동구   POINT (127.464941 36.278667)\n",
              "1      1  30110-00034  ...  대전광역시 동구   POINT (127.470149 36.278374)\n",
              "2      2  30110-00048  ...  대전광역시 동구  POINT (127.4491996 36.336528)\n",
              "\n",
              "[3 rows x 21 columns]"
            ]
          },
          "metadata": {
            "tags": []
          },
          "execution_count": 5
        }
      ]
    },
    {
      "cell_type": "code",
      "metadata": {
        "colab": {
          "base_uri": "https://localhost:8080/"
        },
        "id": "4gCoATcilBGm",
        "outputId": "28fbb87c-4870-4855-b6d4-96bb131059b1"
      },
      "source": [
        "df_a = df_drop[(df_drop['type'] == '어린이공원') |(df_drop['type'] == '소공원') ]\n",
        "df_a['type'].value_counts()"
      ],
      "execution_count": null,
      "outputs": [
        {
          "output_type": "execute_result",
          "data": {
            "text/plain": [
              "어린이공원    261\n",
              "소공원       41\n",
              "Name: type, dtype: int64"
            ]
          },
          "metadata": {
            "tags": []
          },
          "execution_count": 6
        }
      ]
    },
    {
      "cell_type": "code",
      "metadata": {
        "colab": {
          "base_uri": "https://localhost:8080/"
        },
        "id": "EVJe1S4Clylk",
        "outputId": "43eed19f-2e20-4053-d07d-f438406509ee"
      },
      "source": [
        "df_b = df_drop[(df_drop['type']!='어린이공원') & (df_drop['type']!='소공원') & (df_drop['p_area']<=10000)]\n",
        "df_b['type'].value_counts()"
      ],
      "execution_count": null,
      "outputs": [
        {
          "output_type": "execute_result",
          "data": {
            "text/plain": [
              "문화공원    6\n",
              "근린공원    3\n",
              "기타      2\n",
              "수변공원    1\n",
              "Name: type, dtype: int64"
            ]
          },
          "metadata": {
            "tags": []
          },
          "execution_count": 7
        }
      ]
    },
    {
      "cell_type": "code",
      "metadata": {
        "colab": {
          "base_uri": "https://localhost:8080/"
        },
        "id": "UCl9m6yLgZml",
        "outputId": "fb497ddb-6fb6-4774-a491-9bc799b55275"
      },
      "source": [
        "df_c = df_drop[(df_drop['p_area']>=10000) & (df_drop['type']!='어린이공원') & (df_drop['type']!='소공원')]\n",
        "df_c['type'].value_counts()"
      ],
      "execution_count": null,
      "outputs": [
        {
          "output_type": "execute_result",
          "data": {
            "text/plain": [
              "근린공원    72\n",
              "체육공원     9\n",
              "수변공원     5\n",
              "문화공원     4\n",
              "역사공원     1\n",
              "묘지공원     1\n",
              "Name: type, dtype: int64"
            ]
          },
          "metadata": {
            "tags": []
          },
          "execution_count": 9
        }
      ]
    },
    {
      "cell_type": "code",
      "metadata": {
        "colab": {
          "base_uri": "https://localhost:8080/"
        },
        "id": "5XQ4Awmxpr4P",
        "outputId": "c709d518-91cb-42aa-ade1-26ecdf2f10d0"
      },
      "source": [
        "print('a : ', df_a.shape, 'b : ',df_b.shape, 'c : ',df_c.shape, 'sum : ', df_a.shape[0]+df_b.shape[0]+df_c.shape[0])"
      ],
      "execution_count": null,
      "outputs": [
        {
          "output_type": "stream",
          "text": [
            "a :  (302, 21) b :  (12, 21) c :  (92, 21) sum :  406\n"
          ],
          "name": "stdout"
        }
      ]
    },
    {
      "cell_type": "code",
      "metadata": {
        "id": "8I2cZhDansi_"
      },
      "source": [
        "df.to_csv('df_polygon.csv', index=False, encoding='cp949')\n",
        "#df_b.to_csv('df_b.csv', index=False, encoding='cp949')\n",
        "#df_c.to_csv('df_c.csv', index=False, encoding='cp949')"
      ],
      "execution_count": null,
      "outputs": []
    }
  ]
}