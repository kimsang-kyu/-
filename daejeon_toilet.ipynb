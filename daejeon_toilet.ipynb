{
  "nbformat": 4,
  "nbformat_minor": 0,
  "metadata": {
    "colab": {
      "name": "daejeon_toilet.ipynb",
      "provenance": [],
      "authorship_tag": "ABX9TyPBNX25iKn/Z6pYILlVyLBm",
      "include_colab_link": true
    },
    "kernelspec": {
      "name": "python3",
      "display_name": "Python 3"
    },
    "language_info": {
      "name": "python"
    }
  },
  "cells": [
    {
      "cell_type": "markdown",
      "metadata": {
        "id": "view-in-github",
        "colab_type": "text"
      },
      "source": [
        "<a href=\"https://colab.research.google.com/github/kimsang-kyu/daejeon_bigdata/blob/main/daejeon_toilet.ipynb\" target=\"_parent\"><img src=\"https://colab.research.google.com/assets/colab-badge.svg\" alt=\"Open In Colab\"/></a>"
      ]
    },
    {
      "cell_type": "code",
      "metadata": {
        "colab": {
          "base_uri": "https://localhost:8080/"
        },
        "id": "bmIgchOnHd09",
        "outputId": "9f60f76c-3abf-4dbc-e603-11a13f7b88da"
      },
      "source": [
        "from google.colab import drive\n",
        "drive.mount('/content/gdrive/')"
      ],
      "execution_count": null,
      "outputs": [
        {
          "output_type": "stream",
          "text": [
            "Mounted at /content/gdrive/\n"
          ],
          "name": "stdout"
        }
      ]
    },
    {
      "cell_type": "code",
      "metadata": {
        "id": "iUQC4QWaH1-e"
      },
      "source": [
        "import pandas as pd\n",
        "df=pd.read_csv('/content/gdrive/MyDrive/Colab Notebooks/seogu_2.csv',encoding='cp949') "
      ],
      "execution_count": null,
      "outputs": []
    },
    {
      "cell_type": "code",
      "metadata": {
        "colab": {
          "base_uri": "https://localhost:8080/",
          "height": 194
        },
        "id": "tFeCKlamU59j",
        "outputId": "e1adc3dc-45cf-44b2-e7bf-69e5ec6533c9"
      },
      "source": [
        "df.head()"
      ],
      "execution_count": null,
      "outputs": [
        {
          "output_type": "execute_result",
          "data": {
            "text/html": [
              "<div>\n",
              "<style scoped>\n",
              "    .dataframe tbody tr th:only-of-type {\n",
              "        vertical-align: middle;\n",
              "    }\n",
              "\n",
              "    .dataframe tbody tr th {\n",
              "        vertical-align: top;\n",
              "    }\n",
              "\n",
              "    .dataframe thead th {\n",
              "        text-align: right;\n",
              "    }\n",
              "</style>\n",
              "<table border=\"1\" class=\"dataframe\">\n",
              "  <thead>\n",
              "    <tr style=\"text-align: right;\">\n",
              "      <th></th>\n",
              "      <th>Unnamed: 0</th>\n",
              "      <th>구분</th>\n",
              "      <th>화장실명</th>\n",
              "      <th>주소</th>\n",
              "      <th>lat</th>\n",
              "      <th>lon</th>\n",
              "    </tr>\n",
              "  </thead>\n",
              "  <tbody>\n",
              "    <tr>\n",
              "      <th>0</th>\n",
              "      <td>0</td>\n",
              "      <td>공중화장실</td>\n",
              "      <td>둔지미공원1</td>\n",
              "      <td>대전광역시 서구 둔산동 956</td>\n",
              "      <td>36.357134</td>\n",
              "      <td>127.375491</td>\n",
              "    </tr>\n",
              "    <tr>\n",
              "      <th>1</th>\n",
              "      <td>1</td>\n",
              "      <td>공중화장실</td>\n",
              "      <td>둔지미공원2</td>\n",
              "      <td>대전광역시 서구 둔산동 1375</td>\n",
              "      <td>36.356921</td>\n",
              "      <td>127.379813</td>\n",
              "    </tr>\n",
              "    <tr>\n",
              "      <th>2</th>\n",
              "      <td>2</td>\n",
              "      <td>공중화장실</td>\n",
              "      <td>뒤뜰어린이공원</td>\n",
              "      <td>대전광역시 서구 갈마동 295-17</td>\n",
              "      <td>36.352691</td>\n",
              "      <td>127.366307</td>\n",
              "    </tr>\n",
              "    <tr>\n",
              "      <th>3</th>\n",
              "      <td>3</td>\n",
              "      <td>공중화장실</td>\n",
              "      <td>들말공원</td>\n",
              "      <td>대전광역시 서구 가장동 40-6</td>\n",
              "      <td>36.329475</td>\n",
              "      <td>127.384277</td>\n",
              "    </tr>\n",
              "    <tr>\n",
              "      <th>4</th>\n",
              "      <td>4</td>\n",
              "      <td>공중화장실</td>\n",
              "      <td>만년공원</td>\n",
              "      <td>대전광역시 서구 만년동 157</td>\n",
              "      <td>36.366657</td>\n",
              "      <td>127.374160</td>\n",
              "    </tr>\n",
              "  </tbody>\n",
              "</table>\n",
              "</div>"
            ],
            "text/plain": [
              "   Unnamed: 0     구분     화장실명                   주소        lat         lon\n",
              "0           0  공중화장실   둔지미공원1     대전광역시 서구 둔산동 956  36.357134  127.375491\n",
              "1           1  공중화장실   둔지미공원2    대전광역시 서구 둔산동 1375  36.356921  127.379813\n",
              "2           2  공중화장실  뒤뜰어린이공원  대전광역시 서구 갈마동 295-17  36.352691  127.366307\n",
              "3           3  공중화장실     들말공원    대전광역시 서구 가장동 40-6  36.329475  127.384277\n",
              "4           4  공중화장실     만년공원     대전광역시 서구 만년동 157  36.366657  127.374160"
            ]
          },
          "metadata": {
            "tags": []
          },
          "execution_count": 6
        }
      ]
    },
    {
      "cell_type": "code",
      "metadata": {
        "colab": {
          "base_uri": "https://localhost:8080/"
        },
        "id": "Upt6AuwOVJMC",
        "outputId": "27bfae0c-5ed2-4ef7-a716-4cefed6ee599"
      },
      "source": [
        "pip install geopandas"
      ],
      "execution_count": null,
      "outputs": [
        {
          "output_type": "stream",
          "text": [
            "Collecting geopandas\n",
            "\u001b[?25l  Downloading https://files.pythonhosted.org/packages/d7/bf/e9cefb69d39155d122b6ddca53893b61535fa6ffdad70bf5ef708977f53f/geopandas-0.9.0-py2.py3-none-any.whl (994kB)\n",
            "\u001b[K     |████████████████████████████████| 1.0MB 4.0MB/s \n",
            "\u001b[?25hRequirement already satisfied: pandas>=0.24.0 in /usr/local/lib/python3.7/dist-packages (from geopandas) (1.1.5)\n",
            "Collecting pyproj>=2.2.0\n",
            "\u001b[?25l  Downloading https://files.pythonhosted.org/packages/b1/72/d52e9ca81caef056062d71991b0e9b1d16af042245627c5d0e4916a36c4f/pyproj-3.0.1-cp37-cp37m-manylinux2010_x86_64.whl (6.5MB)\n",
            "\u001b[K     |████████████████████████████████| 6.5MB 36.4MB/s \n",
            "\u001b[?25hCollecting fiona>=1.8\n",
            "\u001b[?25l  Downloading https://files.pythonhosted.org/packages/ea/2a/404b22883298a3efe9c6ef8d67acbf2c38443fa366ee9cd4cd34e17626ea/Fiona-1.8.19-cp37-cp37m-manylinux1_x86_64.whl (15.3MB)\n",
            "\u001b[K     |████████████████████████████████| 15.3MB 209kB/s \n",
            "\u001b[?25hRequirement already satisfied: shapely>=1.6 in /usr/local/lib/python3.7/dist-packages (from geopandas) (1.7.1)\n",
            "Requirement already satisfied: numpy>=1.15.4 in /usr/local/lib/python3.7/dist-packages (from pandas>=0.24.0->geopandas) (1.19.5)\n",
            "Requirement already satisfied: python-dateutil>=2.7.3 in /usr/local/lib/python3.7/dist-packages (from pandas>=0.24.0->geopandas) (2.8.1)\n",
            "Requirement already satisfied: pytz>=2017.2 in /usr/local/lib/python3.7/dist-packages (from pandas>=0.24.0->geopandas) (2018.9)\n",
            "Requirement already satisfied: certifi in /usr/local/lib/python3.7/dist-packages (from pyproj>=2.2.0->geopandas) (2020.12.5)\n",
            "Collecting munch\n",
            "  Downloading https://files.pythonhosted.org/packages/cc/ab/85d8da5c9a45e072301beb37ad7f833cd344e04c817d97e0cc75681d248f/munch-2.5.0-py2.py3-none-any.whl\n",
            "Requirement already satisfied: six>=1.7 in /usr/local/lib/python3.7/dist-packages (from fiona>=1.8->geopandas) (1.15.0)\n",
            "Collecting click-plugins>=1.0\n",
            "  Downloading https://files.pythonhosted.org/packages/e9/da/824b92d9942f4e472702488857914bdd50f73021efea15b4cad9aca8ecef/click_plugins-1.1.1-py2.py3-none-any.whl\n",
            "Collecting click<8,>=4.0\n",
            "\u001b[?25l  Downloading https://files.pythonhosted.org/packages/d2/3d/fa76db83bf75c4f8d338c2fd15c8d33fdd7ad23a9b5e57eb6c5de26b430e/click-7.1.2-py2.py3-none-any.whl (82kB)\n",
            "\u001b[K     |████████████████████████████████| 92kB 7.8MB/s \n",
            "\u001b[?25hCollecting cligj>=0.5\n",
            "  Downloading https://files.pythonhosted.org/packages/42/1e/947eadf10d6804bf276eb8a038bd5307996dceaaa41cfd21b7a15ec62f5d/cligj-0.7.1-py3-none-any.whl\n",
            "Requirement already satisfied: attrs>=17 in /usr/local/lib/python3.7/dist-packages (from fiona>=1.8->geopandas) (21.2.0)\n",
            "Installing collected packages: pyproj, munch, click, click-plugins, cligj, fiona, geopandas\n",
            "  Found existing installation: click 8.0.0\n",
            "    Uninstalling click-8.0.0:\n",
            "      Successfully uninstalled click-8.0.0\n",
            "Successfully installed click-7.1.2 click-plugins-1.1.1 cligj-0.7.1 fiona-1.8.19 geopandas-0.9.0 munch-2.5.0 pyproj-3.0.1\n"
          ],
          "name": "stdout"
        }
      ]
    },
    {
      "cell_type": "code",
      "metadata": {
        "id": "QAD2gBMNVE4Q"
      },
      "source": [
        "import geopandas as gpd\n",
        "from shapely.geometry import Point, Polygon, LineString\n",
        "df['geometry'] = df.apply(lambda row : Point([row['lon'], row['lat']]), axis=1)\n",
        "df = gpd.GeoDataFrame(df, geometry='geometry')"
      ],
      "execution_count": null,
      "outputs": []
    },
    {
      "cell_type": "code",
      "metadata": {
        "id": "ub2yz6AsVbnC"
      },
      "source": [
        "df_geojson = gpd.GeoDataFrame(df)\n",
        "df_geojson.to_file('seogu_daejeon.geojson', driver='GeoJSON')"
      ],
      "execution_count": null,
      "outputs": []
    },
    {
      "cell_type": "code",
      "metadata": {
        "id": "XX2U7YUJYdxJ"
      },
      "source": [
        "donggu = gpd.read_file('/content/gdrive/MyDrive/Colab Notebooks/donggu_use.geojson')\n",
        "junggu = gpd.read_file('/content/gdrive/MyDrive/Colab Notebooks/junggu_use.geojson')\n",
        "yusung = gpd.read_file('/content/gdrive/MyDrive/Colab Notebooks/yusung_use.geojson')\n",
        "daeduck = gpd.read_file('/content/gdrive/MyDrive/Colab Notebooks/daeduck_use.geojson')"
      ],
      "execution_count": null,
      "outputs": []
    },
    {
      "cell_type": "code",
      "metadata": {
        "id": "ObfTSpLLZ7Sh"
      },
      "source": [
        "junggu.head(1)\n",
        "junggu['Gu'] = '중구'"
      ],
      "execution_count": null,
      "outputs": []
    },
    {
      "cell_type": "code",
      "metadata": {
        "colab": {
          "base_uri": "https://localhost:8080/",
          "height": 194
        },
        "id": "ghZVP3bCcrZJ",
        "outputId": "87fdc483-34e5-4f24-9cd6-c8a46e40539c"
      },
      "source": [
        "junggu.head()"
      ],
      "execution_count": null,
      "outputs": [
        {
          "output_type": "execute_result",
          "data": {
            "text/html": [
              "<div>\n",
              "<style scoped>\n",
              "    .dataframe tbody tr th:only-of-type {\n",
              "        vertical-align: middle;\n",
              "    }\n",
              "\n",
              "    .dataframe tbody tr th {\n",
              "        vertical-align: top;\n",
              "    }\n",
              "\n",
              "    .dataframe thead th {\n",
              "        text-align: right;\n",
              "    }\n",
              "</style>\n",
              "<table border=\"1\" class=\"dataframe\">\n",
              "  <thead>\n",
              "    <tr style=\"text-align: right;\">\n",
              "      <th></th>\n",
              "      <th>t_name</th>\n",
              "      <th>geometry</th>\n",
              "      <th>Gu</th>\n",
              "    </tr>\n",
              "  </thead>\n",
              "  <tbody>\n",
              "    <tr>\n",
              "      <th>0</th>\n",
              "      <td>신채호선생생가</td>\n",
              "      <td>POINT (127.41013 36.23243)</td>\n",
              "      <td>중구</td>\n",
              "    </tr>\n",
              "    <tr>\n",
              "      <th>1</th>\n",
              "      <td>중촌 게이트볼장</td>\n",
              "      <td>POINT (127.40767 36.34325)</td>\n",
              "      <td>중구</td>\n",
              "    </tr>\n",
              "    <tr>\n",
              "      <th>2</th>\n",
              "      <td>농촌테마마을</td>\n",
              "      <td>POINT (127.40786 36.27823)</td>\n",
              "      <td>중구</td>\n",
              "    </tr>\n",
              "    <tr>\n",
              "      <th>3</th>\n",
              "      <td>으능정이고객지원센터</td>\n",
              "      <td>POINT (127.42854 36.32711)</td>\n",
              "      <td>중구</td>\n",
              "    </tr>\n",
              "    <tr>\n",
              "      <th>4</th>\n",
              "      <td>대전천변 공중화장실</td>\n",
              "      <td>POINT (127.42985 36.32810)</td>\n",
              "      <td>중구</td>\n",
              "    </tr>\n",
              "  </tbody>\n",
              "</table>\n",
              "</div>"
            ],
            "text/plain": [
              "       t_name                    geometry  Gu\n",
              "0     신채호선생생가  POINT (127.41013 36.23243)  중구\n",
              "1    중촌 게이트볼장  POINT (127.40767 36.34325)  중구\n",
              "2      농촌테마마을  POINT (127.40786 36.27823)  중구\n",
              "3  으능정이고객지원센터  POINT (127.42854 36.32711)  중구\n",
              "4  대전천변 공중화장실  POINT (127.42985 36.32810)  중구"
            ]
          },
          "metadata": {
            "tags": []
          },
          "execution_count": 30
        }
      ]
    },
    {
      "cell_type": "code",
      "metadata": {
        "id": "3FPnSdWnZ7qx"
      },
      "source": [
        "yusung.head(1)\n",
        "yusung['Gu'] = '유성구'"
      ],
      "execution_count": null,
      "outputs": []
    },
    {
      "cell_type": "code",
      "metadata": {
        "id": "xX25izvHZ7_B"
      },
      "source": [
        "daeduck.head(1)\n",
        "daeduck['Gu'] = '대덕구'"
      ],
      "execution_count": null,
      "outputs": []
    },
    {
      "cell_type": "code",
      "metadata": {
        "colab": {
          "base_uri": "https://localhost:8080/",
          "height": 106
        },
        "id": "O7wfEsInaC4G",
        "outputId": "4dcfab0f-2792-4227-8b4e-1de584de3e42"
      },
      "source": [
        "df_geojson.head(2)"
      ],
      "execution_count": null,
      "outputs": [
        {
          "output_type": "execute_result",
          "data": {
            "text/html": [
              "<div>\n",
              "<style scoped>\n",
              "    .dataframe tbody tr th:only-of-type {\n",
              "        vertical-align: middle;\n",
              "    }\n",
              "\n",
              "    .dataframe tbody tr th {\n",
              "        vertical-align: top;\n",
              "    }\n",
              "\n",
              "    .dataframe thead th {\n",
              "        text-align: right;\n",
              "    }\n",
              "</style>\n",
              "<table border=\"1\" class=\"dataframe\">\n",
              "  <thead>\n",
              "    <tr style=\"text-align: right;\">\n",
              "      <th></th>\n",
              "      <th>Unnamed: 0</th>\n",
              "      <th>구분</th>\n",
              "      <th>화장실명</th>\n",
              "      <th>주소</th>\n",
              "      <th>lat</th>\n",
              "      <th>lon</th>\n",
              "      <th>geometry</th>\n",
              "    </tr>\n",
              "  </thead>\n",
              "  <tbody>\n",
              "    <tr>\n",
              "      <th>0</th>\n",
              "      <td>0</td>\n",
              "      <td>공중화장실</td>\n",
              "      <td>둔지미공원1</td>\n",
              "      <td>대전광역시 서구 둔산동 956</td>\n",
              "      <td>36.357134</td>\n",
              "      <td>127.375491</td>\n",
              "      <td>POINT (127.37549 36.35713)</td>\n",
              "    </tr>\n",
              "    <tr>\n",
              "      <th>1</th>\n",
              "      <td>1</td>\n",
              "      <td>공중화장실</td>\n",
              "      <td>둔지미공원2</td>\n",
              "      <td>대전광역시 서구 둔산동 1375</td>\n",
              "      <td>36.356921</td>\n",
              "      <td>127.379813</td>\n",
              "      <td>POINT (127.37981 36.35692)</td>\n",
              "    </tr>\n",
              "  </tbody>\n",
              "</table>\n",
              "</div>"
            ],
            "text/plain": [
              "   Unnamed: 0     구분    화장실명  ...        lat         lon                    geometry\n",
              "0           0  공중화장실  둔지미공원1  ...  36.357134  127.375491  POINT (127.37549 36.35713)\n",
              "1           1  공중화장실  둔지미공원2  ...  36.356921  127.379813  POINT (127.37981 36.35692)\n",
              "\n",
              "[2 rows x 7 columns]"
            ]
          },
          "metadata": {
            "tags": []
          },
          "execution_count": 23
        }
      ]
    },
    {
      "cell_type": "code",
      "metadata": {
        "colab": {
          "base_uri": "https://localhost:8080/",
          "height": 76
        },
        "id": "4qNdWwv8aHmZ",
        "outputId": "b73720d7-94a7-40c0-b458-6f2bc5fc25e9"
      },
      "source": [
        "seogu = df_geojson[['화장실명','geometry']]\n",
        "seogu.head(1)"
      ],
      "execution_count": null,
      "outputs": [
        {
          "output_type": "execute_result",
          "data": {
            "text/html": [
              "<div>\n",
              "<style scoped>\n",
              "    .dataframe tbody tr th:only-of-type {\n",
              "        vertical-align: middle;\n",
              "    }\n",
              "\n",
              "    .dataframe tbody tr th {\n",
              "        vertical-align: top;\n",
              "    }\n",
              "\n",
              "    .dataframe thead th {\n",
              "        text-align: right;\n",
              "    }\n",
              "</style>\n",
              "<table border=\"1\" class=\"dataframe\">\n",
              "  <thead>\n",
              "    <tr style=\"text-align: right;\">\n",
              "      <th></th>\n",
              "      <th>화장실명</th>\n",
              "      <th>geometry</th>\n",
              "    </tr>\n",
              "  </thead>\n",
              "  <tbody>\n",
              "    <tr>\n",
              "      <th>0</th>\n",
              "      <td>둔지미공원1</td>\n",
              "      <td>POINT (127.37549 36.35713)</td>\n",
              "    </tr>\n",
              "  </tbody>\n",
              "</table>\n",
              "</div>"
            ],
            "text/plain": [
              "     화장실명                    geometry\n",
              "0  둔지미공원1  POINT (127.37549 36.35713)"
            ]
          },
          "metadata": {
            "tags": []
          },
          "execution_count": 26
        }
      ]
    },
    {
      "cell_type": "code",
      "metadata": {
        "colab": {
          "base_uri": "https://localhost:8080/"
        },
        "id": "WcfR5R9DbB-6",
        "outputId": "94d42ba2-1a76-44d0-ccf9-08e7777bcc4c"
      },
      "source": [
        "seogu.columns = [\"t_name\", \"geometry\"]\n",
        "seogu.head(1)\n",
        "seogu['Gu'] = '서구'"
      ],
      "execution_count": null,
      "outputs": [
        {
          "output_type": "stream",
          "text": [
            "/usr/local/lib/python3.7/dist-packages/geopandas/geodataframe.py:1322: SettingWithCopyWarning: \n",
            "A value is trying to be set on a copy of a slice from a DataFrame.\n",
            "Try using .loc[row_indexer,col_indexer] = value instead\n",
            "\n",
            "See the caveats in the documentation: https://pandas.pydata.org/pandas-docs/stable/user_guide/indexing.html#returning-a-view-versus-a-copy\n",
            "  super(GeoDataFrame, self).__setitem__(key, value)\n"
          ],
          "name": "stderr"
        }
      ]
    },
    {
      "cell_type": "code",
      "metadata": {
        "colab": {
          "base_uri": "https://localhost:8080/",
          "height": 194
        },
        "id": "kbfcWmxEdHJW",
        "outputId": "623a1f6b-b51e-4029-9319-c928ce771b5e"
      },
      "source": [
        "seogu.head()"
      ],
      "execution_count": null,
      "outputs": [
        {
          "output_type": "execute_result",
          "data": {
            "text/html": [
              "<div>\n",
              "<style scoped>\n",
              "    .dataframe tbody tr th:only-of-type {\n",
              "        vertical-align: middle;\n",
              "    }\n",
              "\n",
              "    .dataframe tbody tr th {\n",
              "        vertical-align: top;\n",
              "    }\n",
              "\n",
              "    .dataframe thead th {\n",
              "        text-align: right;\n",
              "    }\n",
              "</style>\n",
              "<table border=\"1\" class=\"dataframe\">\n",
              "  <thead>\n",
              "    <tr style=\"text-align: right;\">\n",
              "      <th></th>\n",
              "      <th>t_name</th>\n",
              "      <th>geometry</th>\n",
              "      <th>Gu</th>\n",
              "    </tr>\n",
              "  </thead>\n",
              "  <tbody>\n",
              "    <tr>\n",
              "      <th>0</th>\n",
              "      <td>둔지미공원1</td>\n",
              "      <td>POINT (127.37549 36.35713)</td>\n",
              "      <td>서구</td>\n",
              "    </tr>\n",
              "    <tr>\n",
              "      <th>1</th>\n",
              "      <td>둔지미공원2</td>\n",
              "      <td>POINT (127.37981 36.35692)</td>\n",
              "      <td>서구</td>\n",
              "    </tr>\n",
              "    <tr>\n",
              "      <th>2</th>\n",
              "      <td>뒤뜰어린이공원</td>\n",
              "      <td>POINT (127.36631 36.35269)</td>\n",
              "      <td>서구</td>\n",
              "    </tr>\n",
              "    <tr>\n",
              "      <th>3</th>\n",
              "      <td>들말공원</td>\n",
              "      <td>POINT (127.38428 36.32947)</td>\n",
              "      <td>서구</td>\n",
              "    </tr>\n",
              "    <tr>\n",
              "      <th>4</th>\n",
              "      <td>만년공원</td>\n",
              "      <td>POINT (127.37416 36.36666)</td>\n",
              "      <td>서구</td>\n",
              "    </tr>\n",
              "  </tbody>\n",
              "</table>\n",
              "</div>"
            ],
            "text/plain": [
              "    t_name                    geometry  Gu\n",
              "0   둔지미공원1  POINT (127.37549 36.35713)  서구\n",
              "1   둔지미공원2  POINT (127.37981 36.35692)  서구\n",
              "2  뒤뜰어린이공원  POINT (127.36631 36.35269)  서구\n",
              "3     들말공원  POINT (127.38428 36.32947)  서구\n",
              "4     만년공원  POINT (127.37416 36.36666)  서구"
            ]
          },
          "metadata": {
            "tags": []
          },
          "execution_count": 34
        }
      ]
    },
    {
      "cell_type": "code",
      "metadata": {
        "id": "aV-7RDhFZgTm"
      },
      "source": [
        "donggu.head(1)\n",
        "donggu['Gu'] = '동구'"
      ],
      "execution_count": null,
      "outputs": []
    },
    {
      "cell_type": "code",
      "metadata": {
        "id": "Wmd0URdmcfwx"
      },
      "source": [
        "daejeon_toilet = pd.concat([donggu,seogu,junggu,yusung,daeduck])"
      ],
      "execution_count": null,
      "outputs": []
    },
    {
      "cell_type": "code",
      "metadata": {
        "colab": {
          "base_uri": "https://localhost:8080/",
          "height": 399
        },
        "id": "dOblpP3ndZsp",
        "outputId": "5c8e8492-4a7f-4a0c-98df-87510e4c5e17"
      },
      "source": [
        "daejeon_toilet"
      ],
      "execution_count": null,
      "outputs": [
        {
          "output_type": "execute_result",
          "data": {
            "text/html": [
              "<div>\n",
              "<style scoped>\n",
              "    .dataframe tbody tr th:only-of-type {\n",
              "        vertical-align: middle;\n",
              "    }\n",
              "\n",
              "    .dataframe tbody tr th {\n",
              "        vertical-align: top;\n",
              "    }\n",
              "\n",
              "    .dataframe thead th {\n",
              "        text-align: right;\n",
              "    }\n",
              "</style>\n",
              "<table border=\"1\" class=\"dataframe\">\n",
              "  <thead>\n",
              "    <tr style=\"text-align: right;\">\n",
              "      <th></th>\n",
              "      <th>t_name</th>\n",
              "      <th>geometry</th>\n",
              "      <th>Gu</th>\n",
              "    </tr>\n",
              "  </thead>\n",
              "  <tbody>\n",
              "    <tr>\n",
              "      <th>0</th>\n",
              "      <td>삼성시장/개선공사</td>\n",
              "      <td>POINT (127.43124 36.33744)</td>\n",
              "      <td>동구</td>\n",
              "    </tr>\n",
              "    <tr>\n",
              "      <th>1</th>\n",
              "      <td>삼성시장</td>\n",
              "      <td>POINT (127.05777 37.51004)</td>\n",
              "      <td>동구</td>\n",
              "    </tr>\n",
              "    <tr>\n",
              "      <th>2</th>\n",
              "      <td>삼성시장</td>\n",
              "      <td>POINT (127.42573 36.33764)</td>\n",
              "      <td>동구</td>\n",
              "    </tr>\n",
              "    <tr>\n",
              "      <th>3</th>\n",
              "      <td>저소득층밀집지역/개선공사(2017)</td>\n",
              "      <td>POINT (127.43236 36.34564)</td>\n",
              "      <td>동구</td>\n",
              "    </tr>\n",
              "    <tr>\n",
              "      <th>4</th>\n",
              "      <td>저소득층밀집지역</td>\n",
              "      <td>POINT (127.43788 36.32386)</td>\n",
              "      <td>동구</td>\n",
              "    </tr>\n",
              "    <tr>\n",
              "      <th>...</th>\n",
              "      <td>...</td>\n",
              "      <td>...</td>\n",
              "      <td>...</td>\n",
              "    </tr>\n",
              "    <tr>\n",
              "      <th>71</th>\n",
              "      <td>계족산 등산로</td>\n",
              "      <td>POINT (127.32627 36.24007)</td>\n",
              "      <td>대덕구</td>\n",
              "    </tr>\n",
              "    <tr>\n",
              "      <th>72</th>\n",
              "      <td>길치근린공원(1)</td>\n",
              "      <td>POINT (127.45901 36.35667)</td>\n",
              "      <td>대덕구</td>\n",
              "    </tr>\n",
              "    <tr>\n",
              "      <th>73</th>\n",
              "      <td>길치근린공원(2)</td>\n",
              "      <td>POINT (127.45788 36.35643)</td>\n",
              "      <td>대덕구</td>\n",
              "    </tr>\n",
              "    <tr>\n",
              "      <th>74</th>\n",
              "      <td>덕골</td>\n",
              "      <td>POINT (128.89530 35.23649)</td>\n",
              "      <td>대덕구</td>\n",
              "    </tr>\n",
              "    <tr>\n",
              "      <th>75</th>\n",
              "      <td>남경마을입구</td>\n",
              "      <td>POINT (127.43639 36.44831)</td>\n",
              "      <td>대덕구</td>\n",
              "    </tr>\n",
              "  </tbody>\n",
              "</table>\n",
              "<p>338 rows × 3 columns</p>\n",
              "</div>"
            ],
            "text/plain": [
              "                 t_name                    geometry   Gu\n",
              "0             삼성시장/개선공사  POINT (127.43124 36.33744)   동구\n",
              "1                  삼성시장  POINT (127.05777 37.51004)   동구\n",
              "2                  삼성시장  POINT (127.42573 36.33764)   동구\n",
              "3   저소득층밀집지역/개선공사(2017)  POINT (127.43236 36.34564)   동구\n",
              "4              저소득층밀집지역  POINT (127.43788 36.32386)   동구\n",
              "..                  ...                         ...  ...\n",
              "71              계족산 등산로  POINT (127.32627 36.24007)  대덕구\n",
              "72            길치근린공원(1)  POINT (127.45901 36.35667)  대덕구\n",
              "73            길치근린공원(2)  POINT (127.45788 36.35643)  대덕구\n",
              "74                   덕골  POINT (128.89530 35.23649)  대덕구\n",
              "75               남경마을입구  POINT (127.43639 36.44831)  대덕구\n",
              "\n",
              "[338 rows x 3 columns]"
            ]
          },
          "metadata": {
            "tags": []
          },
          "execution_count": 38
        }
      ]
    },
    {
      "cell_type": "code",
      "metadata": {
        "colab": {
          "base_uri": "https://localhost:8080/"
        },
        "id": "-kpbHVNcdb4X",
        "outputId": "6ae0c143-31b4-4b8c-d90d-f6e95415f55b"
      },
      "source": [
        "daejeon_toilet['Gu'].value_counts()"
      ],
      "execution_count": null,
      "outputs": [
        {
          "output_type": "execute_result",
          "data": {
            "text/plain": [
              "서구     95\n",
              "유성구    80\n",
              "대덕구    76\n",
              "동구     49\n",
              "중구     38\n",
              "Name: Gu, dtype: int64"
            ]
          },
          "metadata": {
            "tags": []
          },
          "execution_count": 39
        }
      ]
    },
    {
      "cell_type": "code",
      "metadata": {
        "id": "G_9e0KiIeCAe"
      },
      "source": [
        "daejeon_toilet = gpd.GeoDataFrame(daejeon_toilet)\n",
        "daejeon_toilet.to_file('daejeon_toilet.geojson', driver='GeoJSON')"
      ],
      "execution_count": null,
      "outputs": []
    }
  ]
}